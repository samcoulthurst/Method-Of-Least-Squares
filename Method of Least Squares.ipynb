{
 "cells": [
  {
   "cell_type": "code",
   "execution_count": 18,
   "id": "55314be0",
   "metadata": {},
   "outputs": [
    {
     "name": "stdout",
     "output_type": "stream",
     "text": [
      "[-0.4        -2.19946387  4.76252914 -1.49749417  0.170338   -0.00653846]\n"
     ]
    },
    {
     "data": {
      "image/png": "[encoded data removed]",
      "text/plain": [
       "<Figure size 432x288 with 1 Axes>"
      ]
     },
     "metadata": {
      "needs_background": "light"
     },
     "output_type": "display_data"
    }
   ],
   "source": [
    "import numpy as np \n",
    "import matplotlib.pyplot as plt\n",
    "\n",
    "def sum_x(arr,a):\n",
    "    return np.sum(arr**a)\n",
    "    \n",
    "    \n",
    "def sum_xy(x_arr,y_arr,a):\n",
    "    return np.sum(y_arr*(x_arr**a))\n",
    "\n",
    "\n",
    "def least_squares(x_values,y_values,n):\n",
    "    '''\n",
    "    Parameters\n",
    "    ----------\n",
    "    x_values - list of x coordinates of data points\n",
    "    y_values - list of y coordinates of data points\n",
    "    n - order of taylor approximation\n",
    "    \n",
    "    Objective\n",
    "    ---------\n",
    "    Given a set of data points, find an approximation for the taylor series\n",
    "\n",
    "    '''\n",
    "    x_arr = np.array(x_values)\n",
    "    y_arr = np.array(y_values)\n",
    "    \n",
    "    mat = np.eye(n+1)\n",
    "    vector = []\n",
    "    for i in range(n+1):\n",
    "        for j in range(n+1):\n",
    "            mat[i,j] = sum_x(x_arr,i+j)\n",
    "    for k in range(n+1):\n",
    "        vector += [sum_xy(x_arr,y_arr,k)]\n",
    "        \n",
    "    coeff = np.linalg.solve(mat,vector)\n",
    "    \n",
    "    ## Graphing\n",
    "    \n",
    "    best_fit_values = np.zeros_like(x_arr)\n",
    "    for l in range(n+1):\n",
    "        best_fit_values += coeff[l]*x_arr**l\n",
    "    best_fit_values = np.ndarray.tolist(best_fit_values)\n",
    "    \n",
    "    plt.scatter(x_values,y_values)\n",
    "    plt.plot(x_values,best_fit_values, linestyle='dashed')\n",
    "    plt.legend(['Solution','Best fit'])\n",
    "    print(coeff)\n",
    "\n",
    "x_values = np.array([1,2,3,4,5,6,7,8,9,10],dtype='float64')\n",
    "y_values = np.array([1,4,9,7,7,4,3,4,5,6],dtype='float64')\n",
    "    \n",
    "    \n",
    "least_squares(x_values,y_values,5)\n",
    "\n"
   ]
  },
  {
   "cell_type": "code",
   "execution_count": null,
   "id": "1e3c58f8",
   "metadata": {},
   "outputs": [],
   "source": []
  }
 ],
 "metadata": {
  "kernelspec": {
   "display_name": "Python 3 (ipykernel)",
   "language": "python",
   "name": "python3"
  },
  "language_info": {
   "codemirror_mode": {
    "name": "ipython",
    "version": 3
   },
   "file_extension": ".py",
   "mimetype": "text/x-python",
   "name": "python",
   "nbconvert_exporter": "python",
   "pygments_lexer": "ipython3",
   "version": "3.9.12"
  }
 },
 "nbformat": 4,
 "nbformat_minor": 5
}
